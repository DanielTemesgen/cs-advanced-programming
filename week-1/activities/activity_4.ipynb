{
 "cells": [
  {
   "cell_type": "markdown",
   "metadata": {},
   "source": [
    "## Exercise One"
   ]
  },
  {
   "cell_type": "code",
   "execution_count": 2,
   "metadata": {},
   "outputs": [],
   "source": [
    "from queue import LifoQueue, Queue, SimpleQueue\n",
    "import pandas as pd"
   ]
  },
  {
   "cell_type": "code",
   "execution_count": 3,
   "metadata": {},
   "outputs": [],
   "source": [
    "def stack_choices(option: int, stack: Queue, value = None):\n",
    "    \"\"\"This option takes the user choice and gives the user the stack.\n",
    "\n",
    "    Args:\n",
    "        option: the user choice.\n",
    "        stack: the stack to modify.\n",
    "        value: the value to potentially add to the stack.\n",
    "    \n",
    "    \n",
    "    Returns:\n",
    "        a tuple of the stack and the associated string to print.\n",
    "    \"\"\"\n",
    "    if option == 1:\n",
    "        stack.put(value)\n",
    "    elif option == 2:\n",
    "        print(stack.get(timeout=2))\n",
    "    elif option == 3:\n",
    "        print(list(stack.queue))   \n",
    "    \n",
    "    print_dict = {\n",
    "        1: \"Value added.\",\n",
    "        2: \"Value obtained.\",\n",
    "        3: \"Stack above.\"\n",
    "    }\n",
    "\n",
    "    return stack, print_dict.get(option)"
   ]
  },
  {
   "cell_type": "code",
   "execution_count": 6,
   "metadata": {},
   "outputs": [],
   "source": [
    "def menu(stack):\n",
    "    \"\"\"This function runs on a loop and displays the menu.\n",
    "\n",
    "    Args:\n",
    "        stack: the stack to be modified.\n",
    "    \"\"\"\n",
    "    try:\n",
    "        option = int(input(\"Please pick an option.\"))\n",
    "        assert 1 <= option <= 4\n",
    "        if option == 4:\n",
    "            return True\n",
    "    except (ValueError, AssertionError):\n",
    "        print(\"Please enter a valid number.\")\n",
    "        menu(stack)\n",
    "    try:\n",
    "        value = None\n",
    "        if option == 1:\n",
    "            question = \"What number would you like to push onto the stack?\"\n",
    "            value = int(input(question))\n",
    "        stack, statement = stack_choices(option, stack, value)\n",
    "        print(statement)\n",
    "    except ValueError:\n",
    "        print(\"Please enter a valid number.\")\n",
    "        menu(stack)"
   ]
  },
  {
   "cell_type": "code",
   "execution_count": 7,
   "metadata": {},
   "outputs": [],
   "source": [
    "def exercise_one(queue_type):\n",
    "    \"\"\"This is the driver function, which runs the menu loop and modifies the stack/queue depending on the user choice.\n",
    "\n",
    "    Args:\n",
    "        queue_type: either lifo or fifo.\n",
    "    \"\"\"\n",
    "    assert queue_type.lower() in ['lifo', 'fifo'], \"Choose a valid queue type.\"\n",
    "\n",
    "    if queue_type.lower()=='lifo':\n",
    "        stack = LifoQueue()\n",
    "    elif queue_type.lower()=='fifo':\n",
    "        stack = Queue()\n",
    "    \n",
    "    print(f\"\"\"Select an option:\n",
    "        1. Push\n",
    "        2. Pop\n",
    "        3. View\n",
    "        4. Stop\"\"\")\n",
    "\n",
    "    terminate = False\n",
    "    while not terminate:\n",
    "        terminate = menu(stack)"
   ]
  },
  {
   "cell_type": "code",
   "execution_count": 8,
   "metadata": {},
   "outputs": [
    {
     "output_type": "stream",
     "name": "stdout",
     "text": [
      "Select an option:\n",
      "        1. Push\n",
      "        2. Pop\n",
      "        3. View\n",
      "        4. Stop\n",
      "Value added.\n",
      "Value added.\n",
      "Value added.\n",
      "Value added.\n",
      "Value added.\n",
      "[100, 200, 300, 400, 500]\n",
      "Stack above.\n",
      "[100, 200, 300, 400, 500]\n",
      "Stack above.\n",
      "100\n",
      "Value obtained.\n"
     ]
    }
   ],
   "source": [
    "exercise_one('fifo')"
   ]
  },
  {
   "source": [
    "## Exercise Two"
   ],
   "cell_type": "markdown",
   "metadata": {}
  },
  {
   "cell_type": "code",
   "execution_count": 83,
   "metadata": {},
   "outputs": [],
   "source": [
    "records = [\n",
    "    [\"L3\", 390, 345, 379],\n",
    "    [\"P2\", 250, 270, 300],\n",
    "    [\"N6\", 460, 480, 450],\n",
    "    [\"B8\", 470, 510, 360]\n",
    "    ]\n",
    "\n",
    "df = pd.DataFrame.from_records(records, columns=[\"index\", \"April 18\", \"May 18\", \"June 18\"]).set_index('index')"
   ]
  },
  {
   "source": [
    "groups = df.T\n",
    "df['mean'] = df[[\"April 18\", \"May 18\", \"June 18\"]].mean(axis=1)\n",
    "df['sum'] = df[[\"April 18\", \"May 18\", \"June 18\"]].sum(axis=1)"
   ],
   "cell_type": "code",
   "metadata": {},
   "execution_count": 84,
   "outputs": []
  },
  {
   "cell_type": "code",
   "execution_count": 85,
   "metadata": {},
   "outputs": [
    {
     "output_type": "execute_result",
     "data": {
      "text/plain": [
       "             mean   sum\n",
       "index                  \n",
       "L3     371.333333  1114\n",
       "P2     273.333333   820\n",
       "N6     463.333333  1390\n",
       "B8     446.666667  1340"
      ],
      "text/html": "<div>\n<style scoped>\n    .dataframe tbody tr th:only-of-type {\n        vertical-align: middle;\n    }\n\n    .dataframe tbody tr th {\n        vertical-align: top;\n    }\n\n    .dataframe thead th {\n        text-align: right;\n    }\n</style>\n<table border=\"1\" class=\"dataframe\">\n  <thead>\n    <tr style=\"text-align: right;\">\n      <th></th>\n      <th>mean</th>\n      <th>sum</th>\n    </tr>\n    <tr>\n      <th>index</th>\n      <th></th>\n      <th></th>\n    </tr>\n  </thead>\n  <tbody>\n    <tr>\n      <th>L3</th>\n      <td>371.333333</td>\n      <td>1114</td>\n    </tr>\n    <tr>\n      <th>P2</th>\n      <td>273.333333</td>\n      <td>820</td>\n    </tr>\n    <tr>\n      <th>N6</th>\n      <td>463.333333</td>\n      <td>1390</td>\n    </tr>\n    <tr>\n      <th>B8</th>\n      <td>446.666667</td>\n      <td>1340</td>\n    </tr>\n  </tbody>\n</table>\n</div>"
     },
     "metadata": {},
     "execution_count": 85
    }
   ],
   "source": [
    "df[['mean', 'sum']]"
   ]
  },
  {
   "cell_type": "code",
   "execution_count": 86,
   "metadata": {},
   "outputs": [],
   "source": [
    "groups['mean'] = groups[[\"L3\", \"P2\", \"N6\",\"B8\"]].mean(axis=1)\n",
    "groups['sum'] = groups[[\"L3\", \"P2\", \"N6\",\"B8\"]].sum(axis=1)"
   ]
  },
  {
   "cell_type": "code",
   "execution_count": 87,
   "metadata": {},
   "outputs": [
    {
     "output_type": "execute_result",
     "data": {
      "text/plain": [
       "index       mean   sum\n",
       "April 18  392.50  1570\n",
       "May 18    401.25  1605\n",
       "June 18   372.25  1489"
      ],
      "text/html": "<div>\n<style scoped>\n    .dataframe tbody tr th:only-of-type {\n        vertical-align: middle;\n    }\n\n    .dataframe tbody tr th {\n        vertical-align: top;\n    }\n\n    .dataframe thead th {\n        text-align: right;\n    }\n</style>\n<table border=\"1\" class=\"dataframe\">\n  <thead>\n    <tr style=\"text-align: right;\">\n      <th>index</th>\n      <th>mean</th>\n      <th>sum</th>\n    </tr>\n  </thead>\n  <tbody>\n    <tr>\n      <th>April 18</th>\n      <td>392.50</td>\n      <td>1570</td>\n    </tr>\n    <tr>\n      <th>May 18</th>\n      <td>401.25</td>\n      <td>1605</td>\n    </tr>\n    <tr>\n      <th>June 18</th>\n      <td>372.25</td>\n      <td>1489</td>\n    </tr>\n  </tbody>\n</table>\n</div>"
     },
     "metadata": {},
     "execution_count": 87
    }
   ],
   "source": [
    "groups[['mean', 'sum']]"
   ]
  },
  {
   "cell_type": "code",
   "execution_count": null,
   "metadata": {},
   "outputs": [],
   "source": []
  }
 ],
 "metadata": {
  "kernelspec": {
   "display_name": "Python 3",
   "name": "python3"
  },
  "language_info": {
   "codemirror_mode": {
    "name": "ipython",
    "version": 3
   },
   "file_extension": ".py",
   "mimetype": "text/x-python",
   "name": "python",
   "nbconvert_exporter": "python",
   "pygments_lexer": "ipython3",
   "version": "3.8.3-final"
  },
  "orig_nbformat": 2
 },
 "nbformat": 4,
 "nbformat_minor": 2
}