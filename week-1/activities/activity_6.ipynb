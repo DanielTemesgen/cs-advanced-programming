{
 "metadata": {
  "language_info": {
   "codemirror_mode": {
    "name": "ipython",
    "version": 3
   },
   "file_extension": ".py",
   "mimetype": "text/x-python",
   "name": "python",
   "nbconvert_exporter": "python",
   "pygments_lexer": "ipython3",
   "version": "3.8.3-final"
  },
  "orig_nbformat": 2,
  "kernelspec": {
   "name": "python3",
   "display_name": "Python 3"
  }
 },
 "nbformat": 4,
 "nbformat_minor": 2,
 "cells": [
  {
   "source": [
    "## Exercise One"
   ],
   "cell_type": "markdown",
   "metadata": {}
  },
  {
   "cell_type": "code",
   "execution_count": 1,
   "metadata": {},
   "outputs": [],
   "source": [
    "from activity_6.functions import length_conversion, mass_conversion, temp_conversion, time_conversion\n",
    "\n",
    "def exercise_one():\n",
    "    menu = \"\"\"\n",
    "    Which option would you like?\n",
    "    1. Length - feet (') and inches ('') to meters (m).\n",
    "    2. Mass - pounds (lbs) to kilograms (kg).\n",
    "    3. Temperature - Kelvin (K) to Celsius (oC).\n",
    "    4. Time - hours (h) and minutes(m) to seconds (s).\n",
    "    5. Quit.\n",
    "    \"\"\"\n",
    "    print(menu)\n",
    "    terminate = False\n",
    "    while not terminate:\n",
    "        try:\n",
    "            option = int(input(\"Select an option.\"))\n",
    "            assert 1 <= option <= 5\n",
    "        except (ValueError, AssertionError):\n",
    "            print(\"Select a valid option.\")\n",
    "            exercise_one()\n",
    "        finally:\n",
    "            if option == 5:\n",
    "                terminate = True\n",
    "                continue\n",
    "            choice_dict = {\n",
    "                1: length_conversion,\n",
    "                2: mass_conversion,\n",
    "                3: temp_conversion,\n",
    "                4: time_conversion\n",
    "            }\n",
    "            answer = choice_dict.get(option)()\n",
    "            print(answer)\n"
   ]
  },
  {
   "cell_type": "code",
   "execution_count": 2,
   "metadata": {
    "tags": []
   },
   "outputs": [
    {
     "output_type": "stream",
     "name": "stdout",
     "text": [
      "\n",
      "    Which option would you like?\n",
      "    1. Length - feet (') and inches ('') to meters (m).\n",
      "    2. Mass - pounds (lbs) to kilograms (kg).\n",
      "    3. Temperature - Kelvin (K) to Celsius (oC).\n",
      "    4. Time - hours (h) and minutes(m) to seconds (s).\n",
      "    5. Quit.\n",
      "    \n",
      "3660\n"
     ]
    }
   ],
   "source": [
    "exercise_one()"
   ]
  },
  {
   "source": [
    "## Exercise Two"
   ],
   "cell_type": "markdown",
   "metadata": {}
  },
  {
   "cell_type": "code",
   "execution_count": 84,
   "metadata": {},
   "outputs": [],
   "source": [
    "class Name:\n",
    "    def __init__(self, firstName: str, surname: str, title: str, otherNames = None):\n",
    "        self.firstName = firstName\n",
    "        self.surname: str = surname\n",
    "        self.title = title\n",
    "        self.otherNames = otherNames\n",
    "\n",
    "    def formalName(self):\n",
    "        otherNames = ''\n",
    "        if self.otherNames:\n",
    "            otherNames = [string.upper()[0] + '.' for string in self.otherNames]\n",
    "        return ' '.join([self.title, self.firstName.upper()[0] + '.', *otherNames, self.surname.capitalize()])"
   ]
  },
  {
   "cell_type": "code",
   "execution_count": 86,
   "metadata": {},
   "outputs": [
    {
     "output_type": "execute_result",
     "data": {
      "text/plain": [
       "'Mr. B. M. Pitt'"
      ]
     },
     "metadata": {},
     "execution_count": 86
    }
   ],
   "source": [
    "myName = Name('Brad', 'Pitt', 'Mr.', ['Middle'])\n",
    "myName.formalName()"
   ]
  },
  {
   "cell_type": "code",
   "execution_count": 89,
   "metadata": {},
   "outputs": [],
   "source": [
    "class Person:\n",
    "    def __init__(self, name: Name):\n",
    "        self.name = name\n",
    "\n",
    "    def printName(self):\n",
    "        return self.name.formalName()"
   ]
  },
  {
   "cell_type": "code",
   "execution_count": 90,
   "metadata": {},
   "outputs": [
    {
     "output_type": "execute_result",
     "data": {
      "text/plain": [
       "'Mr. B. M. Pitt'"
      ]
     },
     "metadata": {},
     "execution_count": 90
    }
   ],
   "source": [
    "# Composition\n",
    "myPerson = Person(name = myName)\n",
    "myPerson.printName()"
   ]
  },
  {
   "cell_type": "code",
   "execution_count": 91,
   "metadata": {},
   "outputs": [],
   "source": [
    "class Student:\n",
    "    def __init__(self, name: Name):\n",
    "        self.name = name"
   ]
  },
  {
   "cell_type": "code",
   "execution_count": 98,
   "metadata": {},
   "outputs": [],
   "source": [
    "class DistanceStudent(Student):\n",
    "    def __init__(self, name: Name, currentModule: str):\n",
    "        super().__init__(name)\n",
    "        self.currentModule = currentModule\n",
    "    \n",
    "    def modulePrintOut(self):\n",
    "        return ' '.join([self.name.formalName(), \"is currently studying the\", self.currentModule, \"module,\"])\n",
    "        \n",
    "    "
   ]
  },
  {
   "cell_type": "code",
   "execution_count": 99,
   "metadata": {},
   "outputs": [],
   "source": [
    "myDS = DistanceStudent(name=myName, currentModule=\"Advanced Programming\")"
   ]
  },
  {
   "cell_type": "code",
   "execution_count": 100,
   "metadata": {},
   "outputs": [
    {
     "output_type": "execute_result",
     "data": {
      "text/plain": [
       "'Mr. B. M. Pitt is currently studying the Advanced Programming module,'"
      ]
     },
     "metadata": {},
     "execution_count": 100
    }
   ],
   "source": [
    "myDS.modulePrintOut()"
   ]
  }
 ]
}