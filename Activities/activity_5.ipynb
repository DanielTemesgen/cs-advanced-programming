{
 "metadata": {
  "language_info": {
   "codemirror_mode": {
    "name": "ipython",
    "version": 3
   },
   "file_extension": ".py",
   "mimetype": "text/x-python",
   "name": "python",
   "nbconvert_exporter": "python",
   "pygments_lexer": "ipython3",
   "version": "3.8.3-final"
  },
  "orig_nbformat": 2,
  "kernelspec": {
   "name": "python3",
   "display_name": "Python 3"
  }
 },
 "nbformat": 4,
 "nbformat_minor": 2,
 "cells": [
  {
   "source": [
    "## Exercise One"
   ],
   "cell_type": "markdown",
   "metadata": {}
  },
  {
   "cell_type": "code",
   "execution_count": 45,
   "metadata": {},
   "outputs": [],
   "source": [
    "from itertools import groupby\n",
    "thing =\"aeiouaaae  testing \""
   ]
  },
  {
   "source": [
    "def solution(string):\n",
    "    chars_of_interest = ['A', 'E', 'I', 'O', 'U']\n",
    "    replace = 'Other (non-space) Characters'\n",
    "\n",
    "    cleaned_string = [char.upper() if char.upper() in chars_of_interest else replace for char in string.strip()]\n",
    "\n",
    "    freqs = [(key, len(list(group))) for key, group in groupby(sorted(cleaned_string))]\n",
    "\n",
    "    print(freqs)\n",
    "    for char, freq in sorted(freqs, key=lambda x:len(x[0])):\n",
    "        print(f\"{char}: {freq * '*'}\")"
   ],
   "cell_type": "code",
   "metadata": {},
   "execution_count": 68,
   "outputs": []
  },
  {
   "cell_type": "code",
   "execution_count": 69,
   "metadata": {},
   "outputs": [
    {
     "output_type": "stream",
     "name": "stdout",
     "text": [
      "[('A', 4), ('E', 3), ('I', 2), ('O', 1), ('Other (non-space) Characters', 7), ('U', 1)]\nA: ****\nE: ***\nI: **\nO: *\nU: *\nOther (non-space) Characters: *******\n"
     ]
    }
   ],
   "source": [
    "solution(thing)"
   ]
  },
  {
   "source": [
    "## Exercise Two"
   ],
   "cell_type": "markdown",
   "metadata": {}
  },
  {
   "cell_type": "code",
   "execution_count": 71,
   "metadata": {},
   "outputs": [],
   "source": [
    "def isAnagram(one, two):\n",
    "    return sorted(one) == sorted(two)"
   ]
  },
  {
   "source": [
    "def exercise_two(one, two):\n",
    "    if isAnagram(one, two):\n",
    "        print(\"These are anagrams.\")\n",
    "    else:\n",
    "        print(\"These are not anagrams.\")"
   ],
   "cell_type": "code",
   "metadata": {},
   "execution_count": 74,
   "outputs": []
  },
  {
   "cell_type": "code",
   "execution_count": 79,
   "metadata": {},
   "outputs": [
    {
     "output_type": "stream",
     "name": "stdout",
     "text": [
      "These are not anagrams.\n"
     ]
    }
   ],
   "source": [
    "exercise_two(\"at\", \"tac\")"
   ]
  },
  {
   "source": [
    "## Exercise Three"
   ],
   "cell_type": "markdown",
   "metadata": {}
  },
  {
   "cell_type": "code",
   "execution_count": 80,
   "metadata": {},
   "outputs": [],
   "source": [
    "from queue import LifoQueue, Queue, SimpleQueue\n",
    "import pandas as pd"
   ]
  },
  {
   "cell_type": "code",
   "execution_count": 81,
   "metadata": {},
   "outputs": [],
   "source": [
    "def stack_choices(option: int, stack: Queue, value = None):\n",
    "    \"\"\"This option takes the user choice and gives the user the stack.\n",
    "\n",
    "    Args:\n",
    "        option: the user choice.\n",
    "        stack: the stack to modify.\n",
    "        value: the value to potentially add to the stack.\n",
    "    \n",
    "    \n",
    "    Returns:\n",
    "        a tuple of the stack and the associated string to print.\n",
    "    \"\"\"\n",
    "    if option == 1:\n",
    "        stack.put(value)\n",
    "    elif option == 2:\n",
    "        print(stack.get(timeout=2))\n",
    "    elif option == 3:\n",
    "        print(list(stack.queue))   \n",
    "    \n",
    "    print_dict = {\n",
    "        1: \"Value added.\",\n",
    "        2: \"Value obtained.\",\n",
    "        3: \"Stack above.\"\n",
    "    }\n",
    "\n",
    "    return stack, print_dict.get(option)"
   ]
  },
  {
   "cell_type": "code",
   "execution_count": 82,
   "metadata": {},
   "outputs": [],
   "source": [
    "def menu(stack):\n",
    "    \"\"\"This function runs on a loop and displays the menu.\n",
    "\n",
    "    Args:\n",
    "        stack: the stack to be modified.\n",
    "    \"\"\"\n",
    "    try:\n",
    "        option = int(input(\"Please pick an option.\"))\n",
    "        assert 1 <= option <= 4\n",
    "        if option == 4:\n",
    "            return True\n",
    "    except (ValueError, AssertionError):\n",
    "        print(\"Please enter a valid number.\")\n",
    "        menu(stack)\n",
    "    try:\n",
    "        value = None\n",
    "        if option == 1:\n",
    "            question = \"What number would you like to push onto the stack?\"\n",
    "            value = int(input(question))\n",
    "        stack, statement = stack_choices(option, stack, value)\n",
    "        print(statement)\n",
    "    except ValueError:\n",
    "        print(\"Please enter a valid number.\")\n",
    "        menu(stack)"
   ]
  },
  {
   "cell_type": "code",
   "execution_count": null,
   "metadata": {},
   "outputs": [],
   "source": [
    "def exercise_three():\n",
    "    \"\"\"This is the driver function, which runs the menu loop and modifies the stack/queue depending on the user choice.\n",
    "    \"\"\"\n",
    "\n",
    "    try:\n",
    "        option = input(\"Choose LiFo or FiFo.\")\n",
    "        assert option.lower() in ['lifo', 'fifo']\n",
    "    except AssertionError:\n",
    "        exercise_three()\n",
    "\n",
    "    if option.lower() == 'lifo':\n",
    "        stack = LifoQueue()\n",
    "    elif option.lower() == 'fifo':\n",
    "        stack = Queue()\n",
    "    \n",
    "    print(f\"\"\"Select an option:\n",
    "        1. Push\n",
    "        2. Pop\n",
    "        3. View\n",
    "        4. Stop\"\"\")\n",
    "\n",
    "    terminate = False\n",
    "    while not terminate:\n",
    "        terminate = menu(stack)"
   ]
  },
  {
   "cell_type": "code",
   "execution_count": 89,
   "metadata": {},
   "outputs": [
    {
     "output_type": "stream",
     "name": "stdout",
     "text": [
      "Select an option:\n",
      "        1. Push\n",
      "        2. Pop\n",
      "        3. View\n",
      "        4. Stop\n",
      "Value added.\n",
      "Value added.\n",
      "Value added.\n",
      "Value added.\n",
      "100\n",
      "Value obtained.\n",
      "[200, 300, 400]\n",
      "Stack above.\n",
      "Select an option:\n",
      "        1. Push\n",
      "        2. Pop\n",
      "        3. View\n",
      "        4. Stop\n"
     ]
    },
    {
     "output_type": "error",
     "ename": "UnboundLocalError",
     "evalue": "local variable 'stack' referenced before assignment",
     "traceback": [
      "\u001b[0;31m---------------------------------------------------------------------------\u001b[0m",
      "\u001b[0;31mAssertionError\u001b[0m                            Traceback (most recent call last)",
      "\u001b[0;32m<ipython-input-87-3abb40e9587c>\u001b[0m in \u001b[0;36mexercise_three\u001b[0;34m()\u001b[0m\n\u001b[1;32m      6\u001b[0m         \u001b[0moption\u001b[0m \u001b[0;34m=\u001b[0m \u001b[0minput\u001b[0m\u001b[0;34m(\u001b[0m\u001b[0;34m\"Choose LiFo or FiFo.\"\u001b[0m\u001b[0;34m)\u001b[0m\u001b[0;34m\u001b[0m\u001b[0;34m\u001b[0m\u001b[0m\n\u001b[0;32m----> 7\u001b[0;31m         \u001b[0;32massert\u001b[0m \u001b[0moption\u001b[0m\u001b[0;34m.\u001b[0m\u001b[0mlower\u001b[0m\u001b[0;34m(\u001b[0m\u001b[0;34m)\u001b[0m \u001b[0;32min\u001b[0m \u001b[0;34m[\u001b[0m\u001b[0;34m'lifo'\u001b[0m\u001b[0;34m,\u001b[0m \u001b[0;34m'fifo'\u001b[0m\u001b[0;34m]\u001b[0m\u001b[0;34m\u001b[0m\u001b[0;34m\u001b[0m\u001b[0m\n\u001b[0m\u001b[1;32m      8\u001b[0m     \u001b[0;32mexcept\u001b[0m \u001b[0mAssertionError\u001b[0m\u001b[0;34m:\u001b[0m\u001b[0;34m\u001b[0m\u001b[0;34m\u001b[0m\u001b[0m\n",
      "\u001b[0;31mAssertionError\u001b[0m: ",
      "\nDuring handling of the above exception, another exception occurred:\n",
      "\u001b[0;31mAssertionError\u001b[0m                            Traceback (most recent call last)",
      "\u001b[0;32m<ipython-input-87-3abb40e9587c>\u001b[0m in \u001b[0;36mexercise_three\u001b[0;34m()\u001b[0m\n\u001b[1;32m      6\u001b[0m         \u001b[0moption\u001b[0m \u001b[0;34m=\u001b[0m \u001b[0minput\u001b[0m\u001b[0;34m(\u001b[0m\u001b[0;34m\"Choose LiFo or FiFo.\"\u001b[0m\u001b[0;34m)\u001b[0m\u001b[0;34m\u001b[0m\u001b[0;34m\u001b[0m\u001b[0m\n\u001b[0;32m----> 7\u001b[0;31m         \u001b[0;32massert\u001b[0m \u001b[0moption\u001b[0m\u001b[0;34m.\u001b[0m\u001b[0mlower\u001b[0m\u001b[0;34m(\u001b[0m\u001b[0;34m)\u001b[0m \u001b[0;32min\u001b[0m \u001b[0;34m[\u001b[0m\u001b[0;34m'lifo'\u001b[0m\u001b[0;34m,\u001b[0m \u001b[0;34m'fifo'\u001b[0m\u001b[0;34m]\u001b[0m\u001b[0;34m\u001b[0m\u001b[0;34m\u001b[0m\u001b[0m\n\u001b[0m\u001b[1;32m      8\u001b[0m     \u001b[0;32mexcept\u001b[0m \u001b[0mAssertionError\u001b[0m\u001b[0;34m:\u001b[0m\u001b[0;34m\u001b[0m\u001b[0;34m\u001b[0m\u001b[0m\n",
      "\u001b[0;31mAssertionError\u001b[0m: ",
      "\nDuring handling of the above exception, another exception occurred:\n",
      "\u001b[0;31mAssertionError\u001b[0m                            Traceback (most recent call last)",
      "\u001b[0;32m<ipython-input-87-3abb40e9587c>\u001b[0m in \u001b[0;36mexercise_three\u001b[0;34m()\u001b[0m\n\u001b[1;32m      6\u001b[0m         \u001b[0moption\u001b[0m \u001b[0;34m=\u001b[0m \u001b[0minput\u001b[0m\u001b[0;34m(\u001b[0m\u001b[0;34m\"Choose LiFo or FiFo.\"\u001b[0m\u001b[0;34m)\u001b[0m\u001b[0;34m\u001b[0m\u001b[0;34m\u001b[0m\u001b[0m\n\u001b[0;32m----> 7\u001b[0;31m         \u001b[0;32massert\u001b[0m \u001b[0moption\u001b[0m\u001b[0;34m.\u001b[0m\u001b[0mlower\u001b[0m\u001b[0;34m(\u001b[0m\u001b[0;34m)\u001b[0m \u001b[0;32min\u001b[0m \u001b[0;34m[\u001b[0m\u001b[0;34m'lifo'\u001b[0m\u001b[0;34m,\u001b[0m \u001b[0;34m'fifo'\u001b[0m\u001b[0;34m]\u001b[0m\u001b[0;34m\u001b[0m\u001b[0;34m\u001b[0m\u001b[0m\n\u001b[0m\u001b[1;32m      8\u001b[0m     \u001b[0;32mexcept\u001b[0m \u001b[0mAssertionError\u001b[0m\u001b[0;34m:\u001b[0m\u001b[0;34m\u001b[0m\u001b[0;34m\u001b[0m\u001b[0m\n",
      "\u001b[0;31mAssertionError\u001b[0m: ",
      "\nDuring handling of the above exception, another exception occurred:\n",
      "\u001b[0;31mUnboundLocalError\u001b[0m                         Traceback (most recent call last)",
      "\u001b[0;32m<ipython-input-89-a7950437e70c>\u001b[0m in \u001b[0;36m<module>\u001b[0;34m\u001b[0m\n\u001b[0;32m----> 1\u001b[0;31m \u001b[0mexercise_three\u001b[0m\u001b[0;34m(\u001b[0m\u001b[0;34m)\u001b[0m\u001b[0;34m\u001b[0m\u001b[0;34m\u001b[0m\u001b[0m\n\u001b[0m",
      "\u001b[0;32m<ipython-input-87-3abb40e9587c>\u001b[0m in \u001b[0;36mexercise_three\u001b[0;34m()\u001b[0m\n\u001b[1;32m      7\u001b[0m         \u001b[0;32massert\u001b[0m \u001b[0moption\u001b[0m\u001b[0;34m.\u001b[0m\u001b[0mlower\u001b[0m\u001b[0;34m(\u001b[0m\u001b[0;34m)\u001b[0m \u001b[0;32min\u001b[0m \u001b[0;34m[\u001b[0m\u001b[0;34m'lifo'\u001b[0m\u001b[0;34m,\u001b[0m \u001b[0;34m'fifo'\u001b[0m\u001b[0;34m]\u001b[0m\u001b[0;34m\u001b[0m\u001b[0;34m\u001b[0m\u001b[0m\n\u001b[1;32m      8\u001b[0m     \u001b[0;32mexcept\u001b[0m \u001b[0mAssertionError\u001b[0m\u001b[0;34m:\u001b[0m\u001b[0;34m\u001b[0m\u001b[0;34m\u001b[0m\u001b[0m\n\u001b[0;32m----> 9\u001b[0;31m         \u001b[0mexercise_three\u001b[0m\u001b[0;34m(\u001b[0m\u001b[0;34m)\u001b[0m\u001b[0;34m\u001b[0m\u001b[0;34m\u001b[0m\u001b[0m\n\u001b[0m\u001b[1;32m     10\u001b[0m \u001b[0;34m\u001b[0m\u001b[0m\n\u001b[1;32m     11\u001b[0m \u001b[0;34m\u001b[0m\u001b[0m\n",
      "\u001b[0;32m<ipython-input-87-3abb40e9587c>\u001b[0m in \u001b[0;36mexercise_three\u001b[0;34m()\u001b[0m\n\u001b[1;32m      7\u001b[0m         \u001b[0;32massert\u001b[0m \u001b[0moption\u001b[0m\u001b[0;34m.\u001b[0m\u001b[0mlower\u001b[0m\u001b[0;34m(\u001b[0m\u001b[0;34m)\u001b[0m \u001b[0;32min\u001b[0m \u001b[0;34m[\u001b[0m\u001b[0;34m'lifo'\u001b[0m\u001b[0;34m,\u001b[0m \u001b[0;34m'fifo'\u001b[0m\u001b[0;34m]\u001b[0m\u001b[0;34m\u001b[0m\u001b[0;34m\u001b[0m\u001b[0m\n\u001b[1;32m      8\u001b[0m     \u001b[0;32mexcept\u001b[0m \u001b[0mAssertionError\u001b[0m\u001b[0;34m:\u001b[0m\u001b[0;34m\u001b[0m\u001b[0;34m\u001b[0m\u001b[0m\n\u001b[0;32m----> 9\u001b[0;31m         \u001b[0mexercise_three\u001b[0m\u001b[0;34m(\u001b[0m\u001b[0;34m)\u001b[0m\u001b[0;34m\u001b[0m\u001b[0;34m\u001b[0m\u001b[0m\n\u001b[0m\u001b[1;32m     10\u001b[0m \u001b[0;34m\u001b[0m\u001b[0m\n\u001b[1;32m     11\u001b[0m \u001b[0;34m\u001b[0m\u001b[0m\n",
      "\u001b[0;32m<ipython-input-87-3abb40e9587c>\u001b[0m in \u001b[0;36mexercise_three\u001b[0;34m()\u001b[0m\n\u001b[1;32m      7\u001b[0m         \u001b[0;32massert\u001b[0m \u001b[0moption\u001b[0m\u001b[0;34m.\u001b[0m\u001b[0mlower\u001b[0m\u001b[0;34m(\u001b[0m\u001b[0;34m)\u001b[0m \u001b[0;32min\u001b[0m \u001b[0;34m[\u001b[0m\u001b[0;34m'lifo'\u001b[0m\u001b[0;34m,\u001b[0m \u001b[0;34m'fifo'\u001b[0m\u001b[0;34m]\u001b[0m\u001b[0;34m\u001b[0m\u001b[0;34m\u001b[0m\u001b[0m\n\u001b[1;32m      8\u001b[0m     \u001b[0;32mexcept\u001b[0m \u001b[0mAssertionError\u001b[0m\u001b[0;34m:\u001b[0m\u001b[0;34m\u001b[0m\u001b[0;34m\u001b[0m\u001b[0m\n\u001b[0;32m----> 9\u001b[0;31m         \u001b[0mexercise_three\u001b[0m\u001b[0;34m(\u001b[0m\u001b[0;34m)\u001b[0m\u001b[0;34m\u001b[0m\u001b[0;34m\u001b[0m\u001b[0m\n\u001b[0m\u001b[1;32m     10\u001b[0m \u001b[0;34m\u001b[0m\u001b[0m\n\u001b[1;32m     11\u001b[0m \u001b[0;34m\u001b[0m\u001b[0m\n",
      "\u001b[0;32m<ipython-input-87-3abb40e9587c>\u001b[0m in \u001b[0;36mexercise_three\u001b[0;34m()\u001b[0m\n\u001b[1;32m     23\u001b[0m     \u001b[0mterminate\u001b[0m \u001b[0;34m=\u001b[0m \u001b[0;32mFalse\u001b[0m\u001b[0;34m\u001b[0m\u001b[0;34m\u001b[0m\u001b[0m\n\u001b[1;32m     24\u001b[0m     \u001b[0;32mwhile\u001b[0m \u001b[0;32mnot\u001b[0m \u001b[0mterminate\u001b[0m\u001b[0;34m:\u001b[0m\u001b[0;34m\u001b[0m\u001b[0;34m\u001b[0m\u001b[0m\n\u001b[0;32m---> 25\u001b[0;31m         \u001b[0mterminate\u001b[0m \u001b[0;34m=\u001b[0m \u001b[0mmenu\u001b[0m\u001b[0;34m(\u001b[0m\u001b[0mstack\u001b[0m\u001b[0;34m)\u001b[0m\u001b[0;34m\u001b[0m\u001b[0;34m\u001b[0m\u001b[0m\n\u001b[0m",
      "\u001b[0;31mUnboundLocalError\u001b[0m: local variable 'stack' referenced before assignment"
     ]
    }
   ],
   "source": [
    "exercise_three()"
   ]
  },
  {
   "cell_type": "code",
   "execution_count": null,
   "metadata": {},
   "outputs": [],
   "source": []
  }
 ]
}