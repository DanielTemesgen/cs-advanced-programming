{
 "cells": [
  {
   "cell_type": "markdown",
   "metadata": {},
   "source": [
    "## Exercise One"
   ]
  },
  {
   "cell_type": "code",
   "execution_count": 1,
   "metadata": {},
   "outputs": [
    {
     "ename": "ModuleNotFoundError",
     "evalue": "No module named 'pandas'",
     "output_type": "error",
     "traceback": [
      "\u001b[0;31m---------------------------------------------------------------------------\u001b[0m",
      "\u001b[0;31mModuleNotFoundError\u001b[0m                       Traceback (most recent call last)",
      "\u001b[0;32m<ipython-input-1-c1d8be23a390>\u001b[0m in \u001b[0;36m<module>\u001b[0;34m\u001b[0m\n\u001b[1;32m      1\u001b[0m \u001b[0;32mfrom\u001b[0m \u001b[0mqueue\u001b[0m \u001b[0;32mimport\u001b[0m \u001b[0mLifoQueue\u001b[0m\u001b[0;34m,\u001b[0m \u001b[0mQueue\u001b[0m\u001b[0;34m,\u001b[0m \u001b[0mSimpleQueue\u001b[0m\u001b[0;34m\u001b[0m\u001b[0;34m\u001b[0m\u001b[0m\n\u001b[0;32m----> 2\u001b[0;31m \u001b[0;32mimport\u001b[0m \u001b[0mpandas\u001b[0m \u001b[0;32mas\u001b[0m \u001b[0mpd\u001b[0m\u001b[0;34m\u001b[0m\u001b[0;34m\u001b[0m\u001b[0m\n\u001b[0m",
      "\u001b[0;31mModuleNotFoundError\u001b[0m: No module named 'pandas'"
     ]
    }
   ],
   "source": [
    "from queue import LifoQueue, Queue, SimpleQueue\n",
    "import pandas as pd"
   ]
  },
  {
   "cell_type": "code",
   "execution_count": 125,
   "metadata": {},
   "outputs": [],
   "source": [
    "def stack_choices(option: int, stack: Queue, value = None):\n",
    "    \"\"\"This option takes the user choice and gives the user the stack.\n",
    "\n",
    "    Args:\n",
    "        option: the user choice.\n",
    "        stack: the stack to modify.\n",
    "        value: the value to potentially add to the stack.\n",
    "    \n",
    "    \n",
    "    Returns:\n",
    "        a tuple of the stack and the associated string to print.\n",
    "    \"\"\"\n",
    "    if option == 1:\n",
    "        stack.put(value)\n",
    "    elif option == 2:\n",
    "        print(stack.get(timeout=2))\n",
    "    elif option == 3:\n",
    "        print(list(stack.queue))   \n",
    "    \n",
    "    print_dict = {\n",
    "        1: \"Value added.\",\n",
    "        2: \"Value obtained.\",\n",
    "        3: \"Stack above.\"\n",
    "    }\n",
    "\n",
    "    return stack, print_dict.get(option)"
   ]
  },
  {
   "cell_type": "code",
   "execution_count": 121,
   "metadata": {},
   "outputs": [],
   "source": [
    "def menu(stack):\n",
    "    \"\"\"This function runs on a loop and displays the menu.\n",
    "\n",
    "    Args:\n",
    "        stack: the stack to be modified.\n",
    "    \"\"\"\n",
    "    try:\n",
    "        option = int(input(\"Please pick an option.\"))\n",
    "        assert 1 <= option <= 4\n",
    "        if option == 4:\n",
    "            return True\n",
    "    except (ValueError, AssertionError):\n",
    "        print(\"Please enter a valid number.\")\n",
    "        menu(stack)\n",
    "    try:\n",
    "        value = None\n",
    "        if option == 1:\n",
    "            question = \"What number would you like to push onto the stack?\"\n",
    "            value = int(input(question))\n",
    "        stack, statement = stack_choices(option, stack, value)\n",
    "        print(statement)\n",
    "    except ValueError:\n",
    "        print(\"Please enter a valid number.\")\n",
    "        menu(stack)"
   ]
  },
  {
   "cell_type": "code",
   "execution_count": 123,
   "metadata": {},
   "outputs": [],
   "source": [
    "def exercise_one(queue_type):\n",
    "    \"\"\"This is the driver function, which runs the menu loop and modifies the stack/queue depending on the user choice.\n",
    "\n",
    "    Args:\n",
    "        queue_type: either lifo or fifo.\n",
    "    \"\"\"\n",
    "    assert queue_type.lower() in ['lifo', 'fifo'], \"Choose a valid queue type.\"\n",
    "\n",
    "    if queue_type.lower()=='lifo':\n",
    "        stack = LifoQueue()\n",
    "    elif queue_type.lower()=='fifo':\n",
    "        stack = Queue()\n",
    "    \n",
    "    print(f\"\"\"Select an option:\n",
    "        1. Push\n",
    "        2. Pop\n",
    "        3. View\n",
    "        4. Stop\"\"\")\n",
    "\n",
    "    terminate = False\n",
    "    while not terminate:\n",
    "        terminate = menu(stack)"
   ]
  },
  {
   "cell_type": "code",
   "execution_count": 126,
   "metadata": {},
   "outputs": [
    {
     "name": "stdout",
     "output_type": "stream",
     "text": [
      "Select an option:\n",
      "        1. Push\n",
      "        2. Pop\n",
      "        3. View\n",
      "        4. Stop\n",
      "Value added.\n",
      "100\n",
      "Value obtained.\n",
      "Value added.\n",
      "Value added.\n",
      "Value added.\n",
      "Value added.\n",
      "Value added.\n",
      "[100, 200, 300, 400, 500]\n",
      "Stack above.\n",
      "100\n",
      "Value obtained.\n"
     ]
    }
   ],
   "source": [
    "exercise_one('fifo')"
   ]
  },
  {
   "cell_type": "markdown",
   "metadata": {},
   "source": [
    "## Exercise Two"
   ]
  },
  {
   "cell_type": "code",
   "execution_count": null,
   "metadata": {},
   "outputs": [],
   "source": [
    "pd.DataFram\n",
    "L3\n",
    "\n",
    "390\n",
    "\n",
    "345\n",
    "\n",
    "379"
   ]
  },
  {
   "cell_type": "code",
   "execution_count": null,
   "metadata": {},
   "outputs": [],
   "source": []
  },
  {
   "cell_type": "markdown",
   "metadata": {},
   "source": [
    "## Exercise 3"
   ]
  },
  {
   "cell_type": "code",
   "execution_count": null,
   "metadata": {},
   "outputs": [],
   "source": []
  },
  {
   "cell_type": "code",
   "execution_count": null,
   "metadata": {},
   "outputs": [],
   "source": []
  }
 ],
 "metadata": {
  "kernelspec": {
   "display_name": "Python 3",
   "name": "python3"
  },
  "language_info": {
   "codemirror_mode": {
    "name": "ipython",
    "version": 3
   },
   "file_extension": ".py",
   "mimetype": "text/x-python",
   "name": "python",
   "nbconvert_exporter": "python",
   "pygments_lexer": "ipython3",
   "version": "3.5.3-final"
  },
  "orig_nbformat": 2
 },
 "nbformat": 4,
 "nbformat_minor": 2
}