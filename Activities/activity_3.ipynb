{
 "metadata": {
  "language_info": {
   "codemirror_mode": {
    "name": "ipython",
    "version": 3
   },
   "file_extension": ".py",
   "mimetype": "text/x-python",
   "name": "python",
   "nbconvert_exporter": "python",
   "pygments_lexer": "ipython3",
   "version": "3.8.3-final"
  },
  "orig_nbformat": 2,
  "kernelspec": {
   "name": "python3",
   "display_name": "Python 3"
  }
 },
 "nbformat": 4,
 "nbformat_minor": 2,
 "cells": [
  {
   "source": [
    "## Exercise One"
   ],
   "cell_type": "markdown",
   "metadata": {}
  },
  {
   "cell_type": "code",
   "execution_count": 15,
   "metadata": {},
   "outputs": [],
   "source": [
    "def times_table() -> None:\n",
    "    try:\n",
    "        number = int(input(\"What number would you like the times table of?\"))\n",
    "    except ValueError:\n",
    "        raise ValueError(\"Please enter an integer.\")\n",
    "\n",
    "    [print(f\"{x}\\ttimes {number}\\tis {x*number} \\n\") for x in range(2, 22, 2)]"
   ]
  },
  {
   "cell_type": "code",
   "execution_count": 16,
   "metadata": {},
   "outputs": [
    {
     "output_type": "stream",
     "name": "stdout",
     "text": [
      "2\ttimes 5\tis 10 \n\n4\ttimes 5\tis 20 \n\n6\ttimes 5\tis 30 \n\n8\ttimes 5\tis 40 \n\n10\ttimes 5\tis 50 \n\n12\ttimes 5\tis 60 \n\n14\ttimes 5\tis 70 \n\n16\ttimes 5\tis 80 \n\n18\ttimes 5\tis 90 \n\n20\ttimes 5\tis 100 \n\n"
     ]
    }
   ],
   "source": [
    "times_table()"
   ]
  },
  {
   "source": [
    "## Exercise Two"
   ],
   "cell_type": "markdown",
   "metadata": {}
  },
  {
   "cell_type": "code",
   "execution_count": 70,
   "metadata": {},
   "outputs": [
    {
     "output_type": "stream",
     "name": "stdout",
     "text": [
      "            *            \n           ***           \n          *****          \n         *******         \n        *********        \n       ***********       \n      *************      \n     ***************     \n    *****************    \n   *******************   \n  *********************  \n *********************** \n  *********************  \n   *******************   \n    *****************    \n     ***************     \n      *************      \n       ***********       \n        *********        \n         *******         \n          *****          \n           ***           \n            *            \n"
     ]
    }
   ],
   "source": [
    "# functions for each choice\n",
    "def left(num_stars, symbol):\n",
    "    for i in range(num_stars+1):\n",
    "        print(i*symbol)\n",
    "\n",
    "def right(num_stars, symbol):\n",
    "    for i in range(num_stars+1):\n",
    "        j = num_stars - i\n",
    "        print(j* (\" \") + (i*symbol))\n",
    "\n",
    "def diamond(num_stars, symbol):\n",
    "    if num_stars%2==0:\n",
    "        num_stars+=1\n",
    "\n",
    "    star_list = list(range(1, num_stars+1, 2))\n",
    "    star_list = star_list + star_list[0:-1][::-1]\n",
    "\n",
    "    for i in star_list:\n",
    "        gap_length = (num_stars-i) // 2\n",
    "        gap = gap_length * \" \"\n",
    "        print(gap, (i*symbol), gap)\n",
    "\n",
    "# keys are the possible choices, values are the associated functions\n",
    "choice_dict = dict(\n",
    "    left=left,\n",
    "    right=right,\n",
    "    diamond=diamond)\n",
    "\n",
    "# parse user choice for the number of starts\n",
    "try:\n",
    "    num_stars= int(input(\"How many stars would you like in the pattern?\"))\n",
    "    assert isinstance(num_stars, int)\n",
    "    assert num_stars > 0\n",
    "except AssertionError:\n",
    "    raise ValueError(\"Please enter a positive integer.\")\n",
    "\n",
    "# parse user choice for symbol \n",
    "try:\n",
    "    symbol= input(\"What symbol would you like?\")\n",
    "    assert len(symbol) == 1\n",
    "except AssertionError:\n",
    "    raise ValueError(\"Symbol must be of length 1.\")\n",
    "\n",
    "pattern_choice = input(\"Pattern: left, right, or diamond?\")\n",
    "if pattern_choice.lower() not in choice_dict.keys():\n",
    "    raise ValueError(f\"Please pick one of the following: {choice_dict.keys()}\")\n",
    "\n",
    "choice_dict.get(pattern_choice)(num_stars, symbol)\n",
    "\n"
   ]
  },
  {
   "source": [
    "## Exercise 3"
   ],
   "cell_type": "markdown",
   "metadata": {}
  },
  {
   "cell_type": "code",
   "execution_count": 57,
   "metadata": {},
   "outputs": [
    {
     "output_type": "stream",
     "name": "stdout",
     "text": [
      "Only the first 7 lines will be printed.\n\nM  T  W  Th F  S  Su\n1  2  3  4  5  6  7\n8  9  10 11 12 13 14\n15 16 17 18 19 20 21\n22 23 24 25 26 27 28\n29 30 31 32 33\n\n"
     ]
    }
   ],
   "source": [
    "\n",
    "\n",
    "# parse input\n",
    "try:\n",
    "    num_days = int(input(\"How many days would you like?\"))\n",
    "except ValueError:\n",
    "    raise ValueError(\"Must be an integer.\")\n",
    "else:\n",
    "    if num_days < 1:\n",
    "        raise ValueError(\"Please enter a positive integer.\")\n",
    "\n",
    "try:\n",
    "    choice = int(input(\"What day would you want to start on? Pick a number from 1 to 7.\"))\n",
    "except ValueError:\n",
    "    raise ValueError(\"Must be an integer.\")\n",
    "else:\n",
    "    if choice not in list(range(1, 8)):\n",
    "        raise ValueError(\"Please enter a number from 1 to 7.\")\n",
    "\n",
    "# define the first line with the names of each day\n",
    "first_line = [\"M\", \"T\", \"W\", \"Th\", \"F\", \"S\", \"Su\"]\n",
    "\n",
    "# create list of numbers\n",
    "cal_list = (choice - 1) * [\" \"] + [str(num) for num in range(1, num_days+1)]\n",
    "\n",
    "# split list of numbers into sub lists for printing\n",
    "cal_list = [cal_list[x:x+7] for x in range(0, num_days+7, 7)] + [7* \" \"]\n",
    "\n",
    "# insert the first line with the names of the days\n",
    "cal_list.insert(0, first_line)\n",
    "\n",
    "# print the lists and set the tab length to 3\n",
    "print(\"Only the first 7 lines will be printed.\\n\")\n",
    "\n",
    "for list_ in cal_list[0:7]:\n",
    "    print(\"\\t\".join(list_).expandtabs(3))"
   ]
  }
 ]
}